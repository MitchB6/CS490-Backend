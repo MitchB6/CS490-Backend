{
 "cells": [
  {
   "cell_type": "code",
   "execution_count": 44,
   "metadata": {},
   "outputs": [
    {
     "name": "stdout",
     "output_type": "stream",
     "text": [
      "[[107, 'Gina', 'Degeneres', 42], [102, 'Walter', 'Torn', 41], [198, 'Mary', 'Keitel', 40], [181, 'Matthew', 'Carrey', 39], [23, 'Sandra', 'Kilmer', 37]]\n"
     ]
    }
   ],
   "source": [
    "import pymysql\n",
    "cnx = pymysql.connect(user='root', password='Mb235957', host='localhost', database='sakila')\n",
    "cursor = cnx.cursor()\n",
    "query = 'SELECT actor.actor_id, actor.first_name AS \"First\", actor.last_name AS \"Last\", COUNT(film_id) AS \"Film Count\" FROM actor INNER JOIN film_actor ON film_actor.actor_id=actor.actor_id GROUP BY actor.actor_id ORDER BY COUNT(film_id) DESC LIMIT 5;'\n",
    "cursor.execute(query)\n",
    "results = cursor.fetchall()\n",
    "cursor.close()\n",
    "cnx.close()\n",
    "\n",
    "results = [list(row) for row in results]\n",
    "for i in range(len(results)):\n",
    "  results[i][1] = results[i][1].title()\n",
    "  results[i][2] = results[i][2].title()\n",
    "print(results)"
   ]
  }
 ],
 "metadata": {
  "kernelspec": {
   "display_name": "Python 3",
   "language": "python",
   "name": "python3"
  },
  "language_info": {
   "codemirror_mode": {
    "name": "ipython",
    "version": 3
   },
   "file_extension": ".py",
   "mimetype": "text/x-python",
   "name": "python",
   "nbconvert_exporter": "python",
   "pygments_lexer": "ipython3",
   "version": "3.11.0"
  },
  "orig_nbformat": 4
 },
 "nbformat": 4,
 "nbformat_minor": 2
}
